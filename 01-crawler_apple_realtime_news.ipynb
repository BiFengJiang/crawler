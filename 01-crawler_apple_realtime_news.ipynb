{
 "cells": [
  {
   "cell_type": "code",
   "execution_count": 1,
   "metadata": {
    "collapsed": true
   },
   "outputs": [],
   "source": [
    "import re\n",
    "import requests\n",
    "from bs4 import BeautifulSoup\n",
    "import pandas as pd"
   ]
  },
  {
   "cell_type": "code",
   "execution_count": 2,
   "metadata": {
    "collapsed": true
   },
   "outputs": [],
   "source": [
    "url = \"https://tw.appledaily.com/\""
   ]
  },
  {
   "cell_type": "code",
   "execution_count": 3,
   "metadata": {},
   "outputs": [
    {
     "data": {
      "text/plain": [
       "<Response [200]>"
      ]
     },
     "execution_count": 3,
     "metadata": {},
     "output_type": "execute_result"
    }
   ],
   "source": [
    "res = requests.get(url)\n",
    "res"
   ]
  },
  {
   "cell_type": "code",
   "execution_count": 4,
   "metadata": {},
   "outputs": [
    {
     "data": {
      "text/plain": [
       "'<!DOCTYPE html>\\n<!--[if lt IE 7 ]> <html lang=\"zh-TW\" class=\"ie6 ielt8\"> <![endif]-->\\n<!--[if IE 7 ]>    <html lang=\"zh-TW\" class=\"ie7 ielt8\"> <![endif]-->\\n<!--[if IE 8 ]>    <html lang=\"zh-TW\" class=\"ie8\"> <![endif]-->\\n<!--[if (gte IE 9)|!(IE)]><!--> <html lang=\"zh-TW\"> <!--<![endif]-->\\n<head>\\n    <!-- Google Tag Manager For AppledailyTW_PRD-->\\n<script>(function(w,d,s,l,i){w[l]=w[l]||[];w[l].push({\\'gtm.start\\':\\nnew Date().getTime(),event:\\'gtm.js\\'});var f=d.getElementsByTagName(s)[0],\\nj=d.createElement(s),dl=l!=\\'dataLayer\\'?\\'&l=\\'+l:\\'\\';j.async=true;j.src=\\n\\'//www.googletagmanager.com/gtm.js?id=\\'+i+dl;f.parentNode.insertBefore(j,f);\\n})(window,document,\\'script\\',\\'dataLayer\\',\\'GTM-W8R48TQ\\');</script>\\n<!-- End Google Tag Manager -->  <meta charset=\"utf-8\" />\\n  <meta name=\"description\" content=\"台灣蘋果日報是台灣很受歡迎的新聞網站，提供蘋果日報、即時新聞、動新聞、娛樂、體育、社會、生活、副刊、國際萬象等線上版內容，強調報導影音化、圖像化、即時化、行動化，提供讀者全面且豐富的新聞閱讀感受。\" />\\n  <meta name=\"keywords\" content=\"蘋果日報,Apple Daily,台灣,壹傳媒,nextmedia,爽報,Apple, Animation news, Action Ne'"
      ]
     },
     "execution_count": 4,
     "metadata": {},
     "output_type": "execute_result"
    }
   ],
   "source": [
    "res.text[:1000]"
   ]
  },
  {
   "cell_type": "code",
   "execution_count": 5,
   "metadata": {
    "collapsed": true,
    "scrolled": true
   },
   "outputs": [],
   "source": [
    "soup = BeautifulSoup(res.text, 'lxml')\n",
    "#soup"
   ]
  },
  {
   "cell_type": "code",
   "execution_count": 6,
   "metadata": {},
   "outputs": [
    {
     "data": {
      "text/plain": [
       "[<section class=\"rts fillup clearmen\" id=\"realtimenews\">\n",
       " <header><h2>即時新聞 </h2><a href=\"/new/realtime/\" target=\"_blank\">更多新聞</a></header>\n",
       " <article>\n",
       " <figure class=\"rtcvr\"><a href=\"/new/realtime/20181029/1456072\" target=\"_blank\"><img alt=\"殺成大女研究生　清潔工稱借2千遭拒\" src=\"//img.appledaily.com.tw/appledaily/images/RnewsRecommend_1540780758.jpg\"/><p>殺成大女研究生　清潔工稱借2千遭拒</p></a></figure>\n",
       " <ul class=\"hls\">\n",
       " <li><a href=\"/new/realtime/20181029/1456341\" target=\"_blank\" title=\"伴夫屍300天落幕！今終於葬燕巢\">伴夫屍300天落幕！今終於葬燕巢</a></li>\n",
       " <li class=\"hsv\"><a href=\"/new/realtime/20181029/1456362\" target=\"_blank\" title=\"公費流感疫苗僅2家卻連出包\">公費流感疫苗僅2家卻連出包</a></li>\n",
       " <li><a href=\"/new/realtime/20181029/1456413\" target=\"_blank\" title=\"聲援婦聯會遭質疑　柯Ｐ道歉了\">聲援婦聯會遭質疑　柯Ｐ道歉了</a></li>\n",
       " <li class=\"hsv last\"><a href=\"/new/realtime/20181029/1456202\" target=\"_blank\" title=\"白家綺新婚9天被爆戀過汪建民\">白家綺新婚9天被爆戀過汪建民</a></li>\n",
       " </ul>\n",
       " </article>\n",
       " <aside>\n",
       " <ul class=\"mrt\">\n",
       " <li class=\" \"><time>20:48</time><a href=\"/new/realtime/20181029/1456591\" target=\"_blank\">【桃園選戰】桃園藥界成立後援會　鄭...</a></li><li class=\" hsv \"><time>20:48</time><a href=\"/new/realtime/20181029/1456538\" target=\"_blank\">寶貝萬聖節扮啥？《怪奇》Eleve...</a></li><li class=\" \"><time>20:42</time><a href=\"/new/realtime/20181029/1456589\" target=\"_blank\">「中日共榮」不算什麼，十一段線改成...</a></li><li class=\" hsv \"><time>20:40</time><a href=\"/new/realtime/20181029/1456341\" target=\"_blank\">伴夫屍300天落幕！張博雅苦勸姑姑...</a></li><li class=\" hsv \"><time>20:38</time><a href=\"/new/realtime/20181029/1456218\" target=\"_blank\">【獨家】台鐵新局長張政源首發誓言　...</a></li><li class=\" \"><time>20:38</time><a href=\"/new/realtime/20181029/1456577\" target=\"_blank\">周董愛徒煙燻妝上陣殺敵　爬越野車爽...</a></li><li class=\" hsv \"><time>20:37</time><a href=\"/new/realtime/20181029/1456071\" target=\"_blank\">【更新】墜江影片曝光！重慶公車衝落...</a></li><li class=\" hsv last \"><time>20:37</time><a href=\"/new/realtime/20181029/1456578\" target=\"_blank\">強國人崩潰！波蘭電視台公開力挺台灣...</a></li> </ul>\n",
       " </aside>\n",
       " </section>]"
      ]
     },
     "execution_count": 6,
     "metadata": {},
     "output_type": "execute_result"
    }
   ],
   "source": [
    "soup.select(\"#realtimenews\")"
   ]
  },
  {
   "cell_type": "code",
   "execution_count": 7,
   "metadata": {},
   "outputs": [
    {
     "data": {
      "text/plain": [
       "'/new/realtime/20181029/1456072'"
      ]
     },
     "execution_count": 7,
     "metadata": {},
     "output_type": "execute_result"
    }
   ],
   "source": [
    "soup.select(\"#realtimenews a\")[1].get(\"href\")"
   ]
  },
  {
   "cell_type": "code",
   "execution_count": 8,
   "metadata": {
    "collapsed": true
   },
   "outputs": [],
   "source": [
    "newses = soup.select(\"#realtimenews a\")"
   ]
  },
  {
   "cell_type": "code",
   "execution_count": 9,
   "metadata": {},
   "outputs": [
    {
     "name": "stdout",
     "output_type": "stream",
     "text": [
      "['https://tw.appledaily.com/new/realtime/', 'https://tw.appledaily.com/new/realtime/20181029/1456072', 'https://tw.appledaily.com/new/realtime/20181029/1456341', 'https://tw.appledaily.com/new/realtime/20181029/1456362', 'https://tw.appledaily.com/new/realtime/20181029/1456413', 'https://tw.appledaily.com/new/realtime/20181029/1456202', 'https://tw.appledaily.com/new/realtime/20181029/1456591', 'https://tw.appledaily.com/new/realtime/20181029/1456538', 'https://tw.appledaily.com/new/realtime/20181029/1456589', 'https://tw.appledaily.com/new/realtime/20181029/1456341', 'https://tw.appledaily.com/new/realtime/20181029/1456218', 'https://tw.appledaily.com/new/realtime/20181029/1456577', 'https://tw.appledaily.com/new/realtime/20181029/1456071', 'https://tw.appledaily.com/new/realtime/20181029/1456578']\n"
     ]
    }
   ],
   "source": [
    "news_urls = []\n",
    "for news in newses:\n",
    "    news_url = news.get(\"href\")\n",
    "    news_url = url[:-1] + news_url\n",
    "    news_urls.append(news_url)\n",
    "print(news_urls)"
   ]
  },
  {
   "cell_type": "code",
   "execution_count": 10,
   "metadata": {},
   "outputs": [
    {
     "data": {
      "text/plain": [
       "['https://tw.appledaily.com/new/realtime/20181029/1456072',\n",
       " 'https://tw.appledaily.com/new/realtime/20181029/1456341',\n",
       " 'https://tw.appledaily.com/new/realtime/20181029/1456362',\n",
       " 'https://tw.appledaily.com/new/realtime/20181029/1456413',\n",
       " 'https://tw.appledaily.com/new/realtime/20181029/1456202',\n",
       " 'https://tw.appledaily.com/new/realtime/20181029/1456591',\n",
       " 'https://tw.appledaily.com/new/realtime/20181029/1456538',\n",
       " 'https://tw.appledaily.com/new/realtime/20181029/1456589',\n",
       " 'https://tw.appledaily.com/new/realtime/20181029/1456341',\n",
       " 'https://tw.appledaily.com/new/realtime/20181029/1456218',\n",
       " 'https://tw.appledaily.com/new/realtime/20181029/1456577',\n",
       " 'https://tw.appledaily.com/new/realtime/20181029/1456071',\n",
       " 'https://tw.appledaily.com/new/realtime/20181029/1456578']"
      ]
     },
     "execution_count": 10,
     "metadata": {},
     "output_type": "execute_result"
    }
   ],
   "source": [
    "news_urls = news_urls[1:]\n",
    "news_urls"
   ]
  },
  {
   "cell_type": "code",
   "execution_count": 11,
   "metadata": {
    "collapsed": true
   },
   "outputs": [],
   "source": [
    "res = requests.get(news_urls[0])"
   ]
  },
  {
   "cell_type": "code",
   "execution_count": 12,
   "metadata": {
    "collapsed": true
   },
   "outputs": [],
   "source": [
    "soup = BeautifulSoup(res.text, 'lxml')"
   ]
  },
  {
   "cell_type": "code",
   "execution_count": 13,
   "metadata": {},
   "outputs": [
    {
     "data": {
      "text/plain": [
       "'【成大命案】清潔工抹布塞嘴掐死女研究生\\u3000冷血返家畫面曝光'"
      ]
     },
     "execution_count": 13,
     "metadata": {},
     "output_type": "execute_result"
    }
   ],
   "source": [
    "soup.select(\"h1\")[0].text"
   ]
  },
  {
   "cell_type": "code",
   "execution_count": 14,
   "metadata": {},
   "outputs": [
    {
     "data": {
      "text/plain": [
       "'【成大命案】清潔工抹布塞嘴掐死女研究生 冷血返家畫面曝光'"
      ]
     },
     "execution_count": 14,
     "metadata": {},
     "output_type": "execute_result"
    }
   ],
   "source": [
    "soup.select(\"h1\")[0].text.replace(\"\\u3000\", \" \")"
   ]
  },
  {
   "cell_type": "code",
   "execution_count": 15,
   "metadata": {
    "collapsed": true
   },
   "outputs": [],
   "source": [
    "title = soup.select(\"h1\")[0].text.replace(\"\\u3000\", \" \")"
   ]
  },
  {
   "cell_type": "code",
   "execution_count": 16,
   "metadata": {},
   "outputs": [
    {
     "data": {
      "text/plain": [
       "'（更新：新增林榮富行兇後冷靜搭電梯回家畫面）成功大學教育研究所二年級陳姓女學生，昨晚8時30分被學姊發現陳屍在力行校區社科院北棟二樓諮商室。陳女口中被塞抹布，頸部有指痕，雙手有抓痕，趴在地上，被沙發壓著，研判遭掐死。警方調閱監視器，發現成大外包清潔工林榮富跟陳女同搭電梯，涉有重嫌，將他列為重大嫌疑犯，今早6時半在其前丈人住處將其逮捕。\\xa0林榮富（42歲、有竊盜及妨害性自主前科）初步坦承涉案，他供稱跟死者借2千元不成起爭執，才會痛下殺機，林嫌還堅持等到律師到場才供述，但警方存疑行兇動機。林嫌曾有一段婚姻，生有一女，他離婚多年，在成大擔任清潔工，認識陳女。兇嫌林榮富對女研究生痛下殺手後，當晚9時7分回到租屋處搭電梯的監視畫面稍早前曝光，畫面中看到林嫌左手抱著雜物，右手操作電梯按鈕，神情冷靜地回家，對照他不到8小時前才勒斃女研究生，雙手葬送一條人命，令人不寒而慄。台南地檢署檢察官黃銘瑩今天上午會同法醫相驗陳女屍體，發現陳女頸部有掐壓的痕跡，其餘部分無明顯傷勢，已請法醫研究所安排明天上午解剖，釐清詳細死因。林榮富為何周末出現在校園內，選在社會科學大樓二樓的諮商室行兇，成功大學副校長黃正弘說，假日學校裡師生較少，方便清潔，林嫌都是周二休假、周日到學校打掃，陳姓女學生陳屍的諮商研究室裡有工具間，打掃的工具都放在裡面，所以林有開諮商室的鑰匙。警方調查，陳姓女學生（24歲）是高雄人，家裡除了雙親外，還有一個妹妹，她從台南大學教育系畢業後，考上成大，她在校外租屋，目前沒有男友。她昨天上午與同學相約到社會科學大樓南棟4樓教室唸書，準備論文資料。她中午跟同學吃完午餐，返回教室後，人又離開教室，皮包、手機都沒帶走，直到下午3時，同學才發現有異。\\xa0同學們先在社會科學大樓南棟找人，但都遍尋未果，傍晚便向學校職員借了所有教室鑰匙，逐間尋找。警方指出，陳女學姐在晚間8時打開北棟二樓諮商室，並沒有發現陳女屍體，晚間8時30分，陳女學姐與兩名同學二度打開諮商室，赫然發現陳女被壓在沙壓下。救護員到場研判陳女已死亡多時，沒有送醫，警方在8時53分到場偵辦。\\xa0台南市刑警大隊副大隊長林清榮說，陳女被壓在一張雙人沙發下，臉部朝下，雙腳及部分頭髮露出沙發外，死者衣著整齊，口中被塞深咖啡色抹布，被發現時已有屍班。陳女雙手有抓痕，口中有抹布、脖子有指痕，研判是遭掐死，至於詳細死因，檢察官今天上午將會同法醫相驗。\\xa0警方調閱監視影像，發現清潔工林榮富在接近下午1時，曾與陳女一同從南棟4樓經由連通天橋到北棟，跟著死者同搭電梯從四樓下到二樓。2人走出電梯後，發生了什麼事，礙於教室走廊沒有裝置監視器，警方無法釐清。\\xa0下午1時30分，林榮富手上提著兩袋垃圾，從二樓走樓梯下到一樓，把垃圾拿到一旁垃圾堆置處棄置後，走出大門，過程被陳女的同學目擊。校方人員看過監視器後，確認林榮富身分，垃圾袋裡是陳女的桃紅色女用夾腳鞋一雙，和一件非她所有的牛仔外套。\\xa0警方查出男子戶籍在仁德區，昨晚前往查緝，但對方不在家，警方根據地緣關係，查獲林嫌在前岳家躲藏，警方發現林嫌時，對方情緒激動。\\xa0「寶貝女兒，我們上車了！」警方凌晨2時完成刑案現場採證，殯葬業者隨即地下室將陳女屍體運到殯儀館，由檢警及法醫相驗。陳女雙親看到女兒屍體，傷心斷腸，陳女師長及同學陪在一旁，不禁偷偷拭淚。成大副校長黃正弘指出，林榮富2016年1月經由身障媒合平台到成大工作，6至9月是外包清潔工作，9月之後由教育所聘為臨時工，他左眼視力異常，領有「殘障手冊」，他是以「身體殘障」名額優先錄取，每個月薪水約2萬2000元。\\xa0黃正弘說，因林男表現不錯，整理也很乾淨，曾經讓教育所在校內整潔比賽獲獎，該所便用所內經費自行聘僱，薪水採取鐘點計算，依照校方聘僱規定，短期工不用實施良民證確認，所以校方沒有要求林榮富交良民證。《蘋果》今天重回命案現場，社科院學生都知道林榮富，對他印象是「古意的老實人」，一名職員說，昨天中午12時，林榮富走進社科院時，他還跟對方打招呼，對方神情正常。（辛啟松／台南報導）發稿時間：0032更新時間：1950想知道更多，一定要看……成大24歲女研究生疑遭勒斃\\u3000深夜陳屍校內研究室'"
      ]
     },
     "execution_count": 16,
     "metadata": {},
     "output_type": "execute_result"
    }
   ],
   "source": [
    "soup.select(\"p\")[0].text"
   ]
  },
  {
   "cell_type": "code",
   "execution_count": 17,
   "metadata": {
    "collapsed": true
   },
   "outputs": [],
   "source": [
    "content = soup.select(\"p\")[0].text"
   ]
  },
  {
   "cell_type": "code",
   "execution_count": 18,
   "metadata": {},
   "outputs": [
    {
     "data": {
      "text/plain": [
       "'出版時間：2018/10/29 19:50'"
      ]
     },
     "execution_count": 18,
     "metadata": {},
     "output_type": "execute_result"
    }
   ],
   "source": [
    "soup.select(\".ndArticle_creat\")[0].text"
   ]
  },
  {
   "cell_type": "code",
   "execution_count": 19,
   "metadata": {},
   "outputs": [
    {
     "data": {
      "text/plain": [
       "'2018/10/29 19:50'"
      ]
     },
     "execution_count": 19,
     "metadata": {},
     "output_type": "execute_result"
    }
   ],
   "source": [
    "soup.select(\".ndArticle_creat\")[0].text.replace(\"出版時間：\", \"\")"
   ]
  },
  {
   "cell_type": "code",
   "execution_count": 20,
   "metadata": {
    "collapsed": true
   },
   "outputs": [],
   "source": [
    "create_time = soup.select(\".ndArticle_creat\")[0].text.replace(\"出版時間：\", \"\")"
   ]
  },
  {
   "cell_type": "code",
   "execution_count": 21,
   "metadata": {},
   "outputs": [
    {
     "data": {
      "text/plain": [
       "'747659'"
      ]
     },
     "execution_count": 21,
     "metadata": {},
     "output_type": "execute_result"
    }
   ],
   "source": [
    "soup.select(\".ndArticle_view\")[0].text"
   ]
  },
  {
   "cell_type": "code",
   "execution_count": 22,
   "metadata": {
    "collapsed": true
   },
   "outputs": [],
   "source": [
    "watched = soup.select(\".ndArticle_view\")[0].text"
   ]
  },
  {
   "cell_type": "code",
   "execution_count": 23,
   "metadata": {
    "collapsed": true
   },
   "outputs": [],
   "source": [
    "# 整理\n",
    "newses = []\n",
    "for news_url in news_urls:\n",
    "    res = requests.get(news_url)\n",
    "    soup = BeautifulSoup(res.text, 'lxml')\n",
    "    title = soup.select(\"h1\")[0].text.replace(\"\\u3000\", \" \")\n",
    "    content = soup.select(\"p\")[0].text.replace(\"\\xa0\", \"\").replace(\"\\u3000\", \" \")\n",
    "    create_time = soup.select(\".ndArticle_creat\")[0].text.replace(\"出版時間：\", \"\")\n",
    "    try:\n",
    "        watched = soup.select(\".ndArticle_view\")[0].text\n",
    "    except:\n",
    "        watched = None\n",
    "    news = dict()\n",
    "    news[\"title\"] = title\n",
    "    news[\"content\"] = content\n",
    "    news[\"create_time\"] = create_time\n",
    "    news[\"watched\"] = watched\n",
    "    newses.append(news)"
   ]
  },
  {
   "cell_type": "code",
   "execution_count": 24,
   "metadata": {},
   "outputs": [
    {
     "data": {
      "text/plain": [
       "{'content': '（更新：新增林榮富行兇後冷靜搭電梯回家畫面）成功大學教育研究所二年級陳姓女學生，昨晚8時30分被學姊發現陳屍在力行校區社科院北棟二樓諮商室。陳女口中被塞抹布，頸部有指痕，雙手有抓痕，趴在地上，被沙發壓著，研判遭掐死。警方調閱監視器，發現成大外包清潔工林榮富跟陳女同搭電梯，涉有重嫌，將他列為重大嫌疑犯，今早6時半在其前丈人住處將其逮捕。林榮富（42歲、有竊盜及妨害性自主前科）初步坦承涉案，他供稱跟死者借2千元不成起爭執，才會痛下殺機，林嫌還堅持等到律師到場才供述，但警方存疑行兇動機。林嫌曾有一段婚姻，生有一女，他離婚多年，在成大擔任清潔工，認識陳女。兇嫌林榮富對女研究生痛下殺手後，當晚9時7分回到租屋處搭電梯的監視畫面稍早前曝光，畫面中看到林嫌左手抱著雜物，右手操作電梯按鈕，神情冷靜地回家，對照他不到8小時前才勒斃女研究生，雙手葬送一條人命，令人不寒而慄。台南地檢署檢察官黃銘瑩今天上午會同法醫相驗陳女屍體，發現陳女頸部有掐壓的痕跡，其餘部分無明顯傷勢，已請法醫研究所安排明天上午解剖，釐清詳細死因。林榮富為何周末出現在校園內，選在社會科學大樓二樓的諮商室行兇，成功大學副校長黃正弘說，假日學校裡師生較少，方便清潔，林嫌都是周二休假、周日到學校打掃，陳姓女學生陳屍的諮商研究室裡有工具間，打掃的工具都放在裡面，所以林有開諮商室的鑰匙。警方調查，陳姓女學生（24歲）是高雄人，家裡除了雙親外，還有一個妹妹，她從台南大學教育系畢業後，考上成大，她在校外租屋，目前沒有男友。她昨天上午與同學相約到社會科學大樓南棟4樓教室唸書，準備論文資料。她中午跟同學吃完午餐，返回教室後，人又離開教室，皮包、手機都沒帶走，直到下午3時，同學才發現有異。同學們先在社會科學大樓南棟找人，但都遍尋未果，傍晚便向學校職員借了所有教室鑰匙，逐間尋找。警方指出，陳女學姐在晚間8時打開北棟二樓諮商室，並沒有發現陳女屍體，晚間8時30分，陳女學姐與兩名同學二度打開諮商室，赫然發現陳女被壓在沙壓下。救護員到場研判陳女已死亡多時，沒有送醫，警方在8時53分到場偵辦。台南市刑警大隊副大隊長林清榮說，陳女被壓在一張雙人沙發下，臉部朝下，雙腳及部分頭髮露出沙發外，死者衣著整齊，口中被塞深咖啡色抹布，被發現時已有屍班。陳女雙手有抓痕，口中有抹布、脖子有指痕，研判是遭掐死，至於詳細死因，檢察官今天上午將會同法醫相驗。警方調閱監視影像，發現清潔工林榮富在接近下午1時，曾與陳女一同從南棟4樓經由連通天橋到北棟，跟著死者同搭電梯從四樓下到二樓。2人走出電梯後，發生了什麼事，礙於教室走廊沒有裝置監視器，警方無法釐清。下午1時30分，林榮富手上提著兩袋垃圾，從二樓走樓梯下到一樓，把垃圾拿到一旁垃圾堆置處棄置後，走出大門，過程被陳女的同學目擊。校方人員看過監視器後，確認林榮富身分，垃圾袋裡是陳女的桃紅色女用夾腳鞋一雙，和一件非她所有的牛仔外套。警方查出男子戶籍在仁德區，昨晚前往查緝，但對方不在家，警方根據地緣關係，查獲林嫌在前岳家躲藏，警方發現林嫌時，對方情緒激動。「寶貝女兒，我們上車了！」警方凌晨2時完成刑案現場採證，殯葬業者隨即地下室將陳女屍體運到殯儀館，由檢警及法醫相驗。陳女雙親看到女兒屍體，傷心斷腸，陳女師長及同學陪在一旁，不禁偷偷拭淚。成大副校長黃正弘指出，林榮富2016年1月經由身障媒合平台到成大工作，6至9月是外包清潔工作，9月之後由教育所聘為臨時工，他左眼視力異常，領有「殘障手冊」，他是以「身體殘障」名額優先錄取，每個月薪水約2萬2000元。黃正弘說，因林男表現不錯，整理也很乾淨，曾經讓教育所在校內整潔比賽獲獎，該所便用所內經費自行聘僱，薪水採取鐘點計算，依照校方聘僱規定，短期工不用實施良民證確認，所以校方沒有要求林榮富交良民證。《蘋果》今天重回命案現場，社科院學生都知道林榮富，對他印象是「古意的老實人」，一名職員說，昨天中午12時，林榮富走進社科院時，他還跟對方打招呼，對方神情正常。（辛啟松／台南報導）發稿時間：0032更新時間：1950想知道更多，一定要看……成大24歲女研究生疑遭勒斃 深夜陳屍校內研究室',\n",
       " 'create_time': '2018/10/29 19:50',\n",
       " 'title': '【成大命案】清潔工抹布塞嘴掐死女研究生 冷血返家畫面曝光',\n",
       " 'watched': '747659'}"
      ]
     },
     "execution_count": 24,
     "metadata": {},
     "output_type": "execute_result"
    }
   ],
   "source": [
    "newses[0]"
   ]
  },
  {
   "cell_type": "code",
   "execution_count": 25,
   "metadata": {},
   "outputs": [
    {
     "data": {
      "text/html": [
       "<div>\n",
       "<style>\n",
       "    .dataframe thead tr:only-child th {\n",
       "        text-align: right;\n",
       "    }\n",
       "\n",
       "    .dataframe thead th {\n",
       "        text-align: left;\n",
       "    }\n",
       "\n",
       "    .dataframe tbody tr th {\n",
       "        vertical-align: top;\n",
       "    }\n",
       "</style>\n",
       "<table border=\"1\" class=\"dataframe\">\n",
       "  <thead>\n",
       "    <tr style=\"text-align: right;\">\n",
       "      <th></th>\n",
       "      <th>content</th>\n",
       "      <th>create_time</th>\n",
       "      <th>title</th>\n",
       "      <th>watched</th>\n",
       "    </tr>\n",
       "  </thead>\n",
       "  <tbody>\n",
       "    <tr>\n",
       "      <th>0</th>\n",
       "      <td>（更新：新增林榮富行兇後冷靜搭電梯回家畫面）成功大學教育研究所二年級陳姓女學生，昨晚8時30...</td>\n",
       "      <td>2018/10/29 19:50</td>\n",
       "      <td>【成大命案】清潔工抹布塞嘴掐死女研究生 冷血返家畫面曝光</td>\n",
       "      <td>747659</td>\n",
       "    </tr>\n",
       "    <tr>\n",
       "      <th>1</th>\n",
       "      <td>因為愛所以放手。高雄市96歲陳炳添老翁往生10個月，86歲陳妻以「找不到土葬地」為由拒下葬，...</td>\n",
       "      <td>2018/10/29 20:40</td>\n",
       "      <td>伴夫屍300天落幕！張博雅苦勸姑姑放手 今終於葬燕巢</td>\n",
       "      <td>116095</td>\n",
       "    </tr>\n",
       "    <tr>\n",
       "      <th>2</th>\n",
       "      <td>(新增醫師說法、國光生技、食藥署、疾管署說法)上周五流感疫苗傳出1劑疫苗變質事件，才經過2天...</td>\n",
       "      <td>2018/10/29 20:07</td>\n",
       "      <td>2家公費流感疫苗都變質 這次流入9縣市！台中超衰中2次</td>\n",
       "      <td>116575</td>\n",
       "    </tr>\n",
       "    <tr>\n",
       "      <th>3</th>\n",
       "      <td>台北市長柯文哲日前與婦聯會主委雷倩對談時，提到轉型正義應有三個階段，首先是解決現在的問題，接...</td>\n",
       "      <td>2018/10/29 19:02</td>\n",
       "      <td>聲援婦聯會遭質疑 柯Ｐ道歉了「為錯誤的援引例證感到抱歉」</td>\n",
       "      <td>17458</td>\n",
       "    </tr>\n",
       "    <tr>\n",
       "      <th>4</th>\n",
       "      <td>34歲白家綺上周日閃電宣布結婚懷孕喜訊，和小5歲的吳東諺地下戀修成正果。她2015年11月曾...</td>\n",
       "      <td>2018/10/29 17:45</td>\n",
       "      <td>【獨家】白家綺新婚9天被爆戀過汪建民 甜吻照曝光</td>\n",
       "      <td>248629</td>\n",
       "    </tr>\n",
       "    <tr>\n",
       "      <th>5</th>\n",
       "      <td>桃園市藥劑生公會、中醫師、藥商、牙醫公會等藥界7個團體今晚以「感恩、擁戴」成立鄭文燦後援會，...</td>\n",
       "      <td>2018/10/29 20:48</td>\n",
       "      <td>【桃園選戰】桃園藥界成立後援會 鄭文燦：讓桃園成為健康城市</td>\n",
       "      <td>None</td>\n",
       "    </tr>\n",
       "    <tr>\n",
       "      <th>6</th>\n",
       "      <td>後天是萬聖節，不少父母苦惱要為子女做什麼打扮，Netflix幾部熱門夯劇可做參考。已拍到第3...</td>\n",
       "      <td>2018/10/29 20:48</td>\n",
       "      <td>寶貝萬聖節扮啥？《怪奇》Eleven、夜魔俠攏In景</td>\n",
       "      <td>None</td>\n",
       "    </tr>\n",
       "    <tr>\n",
       "      <th>7</th>\n",
       "      <td>戴發奎／自由業這個月關於台灣的國際大事非日本首相安倍晉三訪問中國大陸莫屬，這是安倍自上任六年...</td>\n",
       "      <td>2018/10/29 20:42</td>\n",
       "      <td>「中日共榮」不算什麼，十一段線改成九段線那才叫厲害</td>\n",
       "      <td>None</td>\n",
       "    </tr>\n",
       "    <tr>\n",
       "      <th>8</th>\n",
       "      <td>因為愛所以放手。高雄市96歲陳炳添老翁往生10個月，86歲陳妻以「找不到土葬地」為由拒下葬，...</td>\n",
       "      <td>2018/10/29 20:40</td>\n",
       "      <td>伴夫屍300天落幕！張博雅苦勸姑姑放手 今終於葬燕巢</td>\n",
       "      <td>118965</td>\n",
       "    </tr>\n",
       "    <tr>\n",
       "      <th>9</th>\n",
       "      <td>(新增:張政源回應)短短106天，原本擔任交通部政務次長的張政源將「降調」到台鐵擔任局長，這...</td>\n",
       "      <td>2018/10/29 20:38</td>\n",
       "      <td>【獨家】台鐵新局長張政源首發誓言 給民眾一條安全回家的路（動畫）</td>\n",
       "      <td>10669</td>\n",
       "    </tr>\n",
       "    <tr>\n",
       "      <th>10</th>\n",
       "      <td>周杰倫愛徒派偉俊(小派)為電影《破夢遊戲》創作主題曲，由方文山填詞。為貼近電影人物，MV小派...</td>\n",
       "      <td>2018/10/29 20:38</td>\n",
       "      <td>周董愛徒煙燻妝上陣殺敵 爬越野車爽當英雄</td>\n",
       "      <td>19</td>\n",
       "    </tr>\n",
       "    <tr>\n",
       "      <th>11</th>\n",
       "      <td>中國重慶萬州區長江二橋昨日一輛公車墜入長江，搜救人員至今尋獲兩名死者的遺體，公安核實有15人...</td>\n",
       "      <td>2018/10/29 20:37</td>\n",
       "      <td>【更新】墜江影片曝光！重慶公車衝落長江 仍15人失蹤</td>\n",
       "      <td>39877</td>\n",
       "    </tr>\n",
       "    <tr>\n",
       "      <th>12</th>\n",
       "      <td>中國近年來不斷打壓台灣國際地位，逼迫多國航空公司不得將台灣列為「國家」，還威脅若不遵從將予以...</td>\n",
       "      <td>2018/10/29 20:37</td>\n",
       "      <td>強國人崩潰！波蘭電視台公開力挺台灣獨立</td>\n",
       "      <td>None</td>\n",
       "    </tr>\n",
       "  </tbody>\n",
       "</table>\n",
       "</div>"
      ],
      "text/plain": [
       "                                              content       create_time  \\\n",
       "0   （更新：新增林榮富行兇後冷靜搭電梯回家畫面）成功大學教育研究所二年級陳姓女學生，昨晚8時30...  2018/10/29 19:50   \n",
       "1   因為愛所以放手。高雄市96歲陳炳添老翁往生10個月，86歲陳妻以「找不到土葬地」為由拒下葬，...  2018/10/29 20:40   \n",
       "2   (新增醫師說法、國光生技、食藥署、疾管署說法)上周五流感疫苗傳出1劑疫苗變質事件，才經過2天...  2018/10/29 20:07   \n",
       "3   台北市長柯文哲日前與婦聯會主委雷倩對談時，提到轉型正義應有三個階段，首先是解決現在的問題，接...  2018/10/29 19:02   \n",
       "4   34歲白家綺上周日閃電宣布結婚懷孕喜訊，和小5歲的吳東諺地下戀修成正果。她2015年11月曾...  2018/10/29 17:45   \n",
       "5   桃園市藥劑生公會、中醫師、藥商、牙醫公會等藥界7個團體今晚以「感恩、擁戴」成立鄭文燦後援會，...  2018/10/29 20:48   \n",
       "6   後天是萬聖節，不少父母苦惱要為子女做什麼打扮，Netflix幾部熱門夯劇可做參考。已拍到第3...  2018/10/29 20:48   \n",
       "7   戴發奎／自由業這個月關於台灣的國際大事非日本首相安倍晉三訪問中國大陸莫屬，這是安倍自上任六年...  2018/10/29 20:42   \n",
       "8   因為愛所以放手。高雄市96歲陳炳添老翁往生10個月，86歲陳妻以「找不到土葬地」為由拒下葬，...  2018/10/29 20:40   \n",
       "9   (新增:張政源回應)短短106天，原本擔任交通部政務次長的張政源將「降調」到台鐵擔任局長，這...  2018/10/29 20:38   \n",
       "10  周杰倫愛徒派偉俊(小派)為電影《破夢遊戲》創作主題曲，由方文山填詞。為貼近電影人物，MV小派...  2018/10/29 20:38   \n",
       "11  中國重慶萬州區長江二橋昨日一輛公車墜入長江，搜救人員至今尋獲兩名死者的遺體，公安核實有15人...  2018/10/29 20:37   \n",
       "12  中國近年來不斷打壓台灣國際地位，逼迫多國航空公司不得將台灣列為「國家」，還威脅若不遵從將予以...  2018/10/29 20:37   \n",
       "\n",
       "                               title watched  \n",
       "0       【成大命案】清潔工抹布塞嘴掐死女研究生 冷血返家畫面曝光  747659  \n",
       "1         伴夫屍300天落幕！張博雅苦勸姑姑放手 今終於葬燕巢  116095  \n",
       "2        2家公費流感疫苗都變質 這次流入9縣市！台中超衰中2次  116575  \n",
       "3       聲援婦聯會遭質疑 柯Ｐ道歉了「為錯誤的援引例證感到抱歉」   17458  \n",
       "4           【獨家】白家綺新婚9天被爆戀過汪建民 甜吻照曝光  248629  \n",
       "5      【桃園選戰】桃園藥界成立後援會 鄭文燦：讓桃園成為健康城市    None  \n",
       "6         寶貝萬聖節扮啥？《怪奇》Eleven、夜魔俠攏In景    None  \n",
       "7          「中日共榮」不算什麼，十一段線改成九段線那才叫厲害    None  \n",
       "8         伴夫屍300天落幕！張博雅苦勸姑姑放手 今終於葬燕巢  118965  \n",
       "9   【獨家】台鐵新局長張政源首發誓言 給民眾一條安全回家的路（動畫）   10669  \n",
       "10              周董愛徒煙燻妝上陣殺敵 爬越野車爽當英雄      19  \n",
       "11        【更新】墜江影片曝光！重慶公車衝落長江 仍15人失蹤   39877  \n",
       "12               強國人崩潰！波蘭電視台公開力挺台灣獨立    None  "
      ]
     },
     "execution_count": 25,
     "metadata": {},
     "output_type": "execute_result"
    }
   ],
   "source": [
    "df = pd.DataFrame(list(filter(None,newses)))\n",
    "df"
   ]
  },
  {
   "cell_type": "code",
   "execution_count": null,
   "metadata": {
    "collapsed": true
   },
   "outputs": [],
   "source": []
  }
 ],
 "metadata": {
  "kernelspec": {
   "display_name": "Python 3",
   "language": "python",
   "name": "python3"
  },
  "language_info": {
   "codemirror_mode": {
    "name": "ipython",
    "version": 3
   },
   "file_extension": ".py",
   "mimetype": "text/x-python",
   "name": "python",
   "nbconvert_exporter": "python",
   "pygments_lexer": "ipython3",
   "version": "3.6.3"
  }
 },
 "nbformat": 4,
 "nbformat_minor": 2
}
